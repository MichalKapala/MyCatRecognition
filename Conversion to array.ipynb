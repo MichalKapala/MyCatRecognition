{
 "cells": [
  {
   "cell_type": "code",
   "execution_count": null,
   "metadata": {},
   "outputs": [],
   "source": [
    "import cv2\n",
    "import os\n",
    "import numpy as np\n",
    "import pandas as pd\n",
    "import matplotlib.pyplot as plt"
   ]
  },
  {
   "cell_type": "code",
   "execution_count": null,
   "metadata": {},
   "outputs": [],
   "source": [
    "def process_image(image):\n",
    "    image = cv2.resize(image, (256, 256))\n",
    "    image = cv2.GaussianBlur(image, (5,5), 0)\n",
    "    image = image / 255\n",
    "    return image"
   ]
  },
  {
   "cell_type": "code",
   "execution_count": null,
   "metadata": {},
   "outputs": [],
   "source": [
    "files_diana = list(map(lambda x: \"diana/\" + x,  os.listdir(path='data/train/diana')))\n",
    "files_not_diana = list(map(lambda x: \"not_diana/\" + x, os.listdir(path='data/train/not_diana')))\n",
    "files = files_diana + files_not_diana"
   ]
  },
  {
   "cell_type": "code",
   "execution_count": null,
   "metadata": {},
   "outputs": [],
   "source": [
    "files_diana_test = list(map(lambda x: \"diana/\" + x,  os.listdir(path='data/test/diana')))\n",
    "files_not_diana_test = list(map(lambda x: \"not_diana/\" + x, os.listdir(path='data/test/not_diana')))\n",
    "files_test = files_diana_test + files_not_diana_test"
   ]
  },
  {
   "cell_type": "code",
   "execution_count": null,
   "metadata": {},
   "outputs": [],
   "source": [
    "images_train = [cv2.imread('data/train/' + path) for path in files]\n",
    "images_test = [cv2.imread('data/test/' + path) for path in files_test]"
   ]
  },
  {
   "cell_type": "code",
   "execution_count": null,
   "metadata": {},
   "outputs": [],
   "source": [
    "images_train = [process_image(image) for image in images_train]\n",
    "images_test = [process_image(image) for image in images_test]"
   ]
  },
  {
   "cell_type": "code",
   "execution_count": null,
   "metadata": {},
   "outputs": [],
   "source": [
    "data_to_save = pd.DataFrame(data=images_train)\n",
    "data_to_save.to_csv(\"train.csv\", index=False)"
   ]
  }
 ],
 "metadata": {
  "kernelspec": {
   "display_name": "Python 3",
   "language": "python",
   "name": "python3"
  },
  "language_info": {
   "codemirror_mode": {
    "name": "ipython",
    "version": 3
   },
   "file_extension": ".py",
   "mimetype": "text/x-python",
   "name": "python",
   "nbconvert_exporter": "python",
   "pygments_lexer": "ipython3",
   "version": "3.7.4"
  }
 },
 "nbformat": 4,
 "nbformat_minor": 2
}
